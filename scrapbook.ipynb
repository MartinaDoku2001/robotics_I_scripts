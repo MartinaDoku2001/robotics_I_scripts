{
 "cells": [
  {
   "cell_type": "markdown",
   "metadata": {},
   "source": [
    "# Contents\n",
    "\n",
    "This is a notebook that imports the robots libraries and a bunch of useful stuff\n",
    "\n",
    "I use this to perform explorative sessions when debugging/testing some aspects of the library\n",
    "\n",
    "Feel free to reuse this at the exam!\n",
    "\n",
    "(remember to use the pdm provided .venv on the top right corner of the notebook)"
   ]
  },
  {
   "cell_type": "code",
   "execution_count": 1,
   "metadata": {},
   "outputs": [],
   "source": [
    "import pyrobots as pr\n",
    "import numpy as np\n",
    "from rich import print\n"
   ]
  },
  {
   "cell_type": "code",
   "execution_count": 2,
   "metadata": {},
   "outputs": [],
   "source": [
    "import numpy as np"
   ]
  },
  {
   "cell_type": "code",
   "execution_count": 3,
   "metadata": {},
   "outputs": [],
   "source": [
    "angle = -30\n",
    "\n",
    "angles_rad = np.deg2rad(angle)"
   ]
  },
  {
   "cell_type": "code",
   "execution_count": 4,
   "metadata": {},
   "outputs": [
    {
     "data": {
      "text/plain": [
       "-0.5235987755982988"
      ]
     },
     "execution_count": 4,
     "metadata": {},
     "output_type": "execute_result"
    }
   ],
   "source": [
    "angles_rad"
   ]
  },
  {
   "cell_type": "code",
   "execution_count": 5,
   "metadata": {},
   "outputs": [],
   "source": [
    "def is_skew_symmetric_matrix(A):\n",
    "    return np.allclose(A.T, -A)"
   ]
  },
  {
   "cell_type": "code",
   "execution_count": 6,
   "metadata": {},
   "outputs": [],
   "source": [
    "A = pr.rotations.direct_rot_mat(np.pi, np.array([1,0,0]))"
   ]
  },
  {
   "cell_type": "code",
   "execution_count": 7,
   "metadata": {},
   "outputs": [],
   "source": [
    "O , S= pr.direct_generic((\"y\", \"x\", \"y\"), (np.pi/2, -np.pi/4, np.pi/4), get_symbolic=True)\n",
    "R = pr.rotations.direct_rot_mat(angles_rad, np.array([1/np.sqrt(3),-1/np.sqrt(3),1/np.sqrt(3)]))"
   ]
  },
  {
   "cell_type": "code",
   "execution_count": 8,
   "metadata": {},
   "outputs": [],
   "source": [
    "A = pr.rotations.gen_pitch(\"t\")\n",
    "a = A.subs({\"t\": np.pi/2})"
   ]
  },
  {
   "cell_type": "code",
   "execution_count": 9,
   "metadata": {},
   "outputs": [],
   "source": [
    "B = pr.rotations.gen_roll(\"phi_1\")\n",
    "b = B.subs(\"phi_1\", -np.pi/4)"
   ]
  },
  {
   "cell_type": "code",
   "execution_count": 10,
   "metadata": {},
   "outputs": [],
   "source": [
    "C = pr.rotations.gen_pitch(\"theta_2\")\n",
    "c = C.subs(\"theta_2\", np.pi/4)"
   ]
  },
  {
   "cell_type": "code",
   "execution_count": 11,
   "metadata": {},
   "outputs": [
    {
     "data": {
      "image/png": "[encoded data removed]",
      "text/latex": [
       "$\\displaystyle \\left[\\begin{matrix}- \\sin{\\left(t \\right)} \\sin{\\left(\\theta_{2} \\right)} \\cos{\\left(\\phi_{1} \\right)} + \\cos{\\left(t \\right)} \\cos{\\left(\\theta_{2} \\right)} & \\sin{\\left(\\phi_{1} \\right)} \\sin{\\left(t \\right)} & \\sin{\\left(t \\right)} \\cos{\\left(\\phi_{1} \\right)} \\cos{\\left(\\theta_{2} \\right)} + \\sin{\\left(\\theta_{2} \\right)} \\cos{\\left(t \\right)}\\\\\\sin{\\left(\\phi_{1} \\right)} \\sin{\\left(\\theta_{2} \\right)} & \\cos{\\left(\\phi_{1} \\right)} & - \\sin{\\left(\\phi_{1} \\right)} \\cos{\\left(\\theta_{2} \\right)}\\\\- \\sin{\\left(t \\right)} \\cos{\\left(\\theta_{2} \\right)} - \\sin{\\left(\\theta_{2} \\right)} \\cos{\\left(\\phi_{1} \\right)} \\cos{\\left(t \\right)} & \\sin{\\left(\\phi_{1} \\right)} \\cos{\\left(t \\right)} & - \\sin{\\left(t \\right)} \\sin{\\left(\\theta_{2} \\right)} + \\cos{\\left(\\phi_{1} \\right)} \\cos{\\left(t \\right)} \\cos{\\left(\\theta_{2} \\right)}\\end{matrix}\\right]$"
      ],
      "text/plain": [
       "⎡-sin(t)⋅sin(θ₂)⋅cos(φ₁) + cos(t)⋅cos(θ₂)  sin(φ₁)⋅sin(t)  sin(t)⋅cos(φ₁)⋅cos(\n",
       "⎢                                                                             \n",
       "⎢            sin(φ₁)⋅sin(θ₂)                  cos(φ₁)                  -sin(φ₁\n",
       "⎢                                                                             \n",
       "⎣-sin(t)⋅cos(θ₂) - sin(θ₂)⋅cos(φ₁)⋅cos(t)  sin(φ₁)⋅cos(t)  -sin(t)⋅sin(θ₂) + c\n",
       "\n",
       "θ₂) + sin(θ₂)⋅cos(t) ⎤\n",
       "                     ⎥\n",
       ")⋅cos(θ₂)            ⎥\n",
       "                     ⎥\n",
       "os(φ₁)⋅cos(t)⋅cos(θ₂)⎦"
      ]
     },
     "execution_count": 11,
     "metadata": {},
     "output_type": "execute_result"
    }
   ],
   "source": [
    "Z = A @ B @ C\n",
    "Z"
   ]
  },
  {
   "cell_type": "code",
   "execution_count": 12,
   "metadata": {},
   "outputs": [
    {
     "data": {
      "image/png": "[encoded data removed]",
      "text/latex": [
       "$\\displaystyle \\left[\\begin{matrix}- \\sin{\\left(\\theta_{0} \\right)} \\sin{\\left(\\theta_{2} \\right)} \\cos{\\left(\\phi_{1} \\right)} + \\cos{\\left(\\theta_{0} \\right)} \\cos{\\left(\\theta_{2} \\right)} & \\sin{\\left(\\phi_{1} \\right)} \\sin{\\left(\\theta_{2} \\right)} & \\sin{\\left(\\theta_{0} \\right)} \\cos{\\left(\\theta_{2} \\right)} + \\sin{\\left(\\theta_{2} \\right)} \\cos{\\left(\\phi_{1} \\right)} \\cos{\\left(\\theta_{0} \\right)}\\\\\\sin{\\left(\\phi_{1} \\right)} \\sin{\\left(\\theta_{0} \\right)} & \\cos{\\left(\\phi_{1} \\right)} & - \\sin{\\left(\\phi_{1} \\right)} \\cos{\\left(\\theta_{0} \\right)}\\\\- \\sin{\\left(\\theta_{0} \\right)} \\cos{\\left(\\phi_{1} \\right)} \\cos{\\left(\\theta_{2} \\right)} - \\sin{\\left(\\theta_{2} \\right)} \\cos{\\left(\\theta_{0} \\right)} & \\sin{\\left(\\phi_{1} \\right)} \\cos{\\left(\\theta_{2} \\right)} & - \\sin{\\left(\\theta_{0} \\right)} \\sin{\\left(\\theta_{2} \\right)} + \\cos{\\left(\\phi_{1} \\right)} \\cos{\\left(\\theta_{0} \\right)} \\cos{\\left(\\theta_{2} \\right)}\\end{matrix}\\right]$"
      ],
      "text/plain": [
       "⎡-sin(θ₀)⋅sin(θ₂)⋅cos(φ₁) + cos(θ₀)⋅cos(θ₂)  sin(φ₁)⋅sin(θ₂)  sin(θ₀)⋅cos(θ₂) \n",
       "⎢                                                                             \n",
       "⎢             sin(φ₁)⋅sin(θ₀)                    cos(φ₁)                   -si\n",
       "⎢                                                                             \n",
       "⎣-sin(θ₀)⋅cos(φ₁)⋅cos(θ₂) - sin(θ₂)⋅cos(θ₀)  sin(φ₁)⋅cos(θ₂)  -sin(θ₀)⋅sin(θ₂)\n",
       "\n",
       "+ sin(θ₂)⋅cos(φ₁)⋅cos(θ₀) ⎤\n",
       "                          ⎥\n",
       "n(φ₁)⋅cos(θ₀)             ⎥\n",
       "                          ⎥\n",
       " + cos(φ₁)⋅cos(θ₀)⋅cos(θ₂)⎦"
      ]
     },
     "execution_count": 12,
     "metadata": {},
     "output_type": "execute_result"
    }
   ],
   "source": [
    "O , S = pr.direct_generic((\"y\", \"x\", \"y\"), (np.pi/2, -np.pi/4, np.pi/4), get_symbolic=True)\n",
    "S"
   ]
  },
  {
   "cell_type": "code",
   "execution_count": 13,
   "metadata": {},
   "outputs": [
    {
     "data": {
      "text/plain": [
       "array([[-0.500000000000000, -0.707106781186547, 0.500000000000000],\n",
       "       [-0.500000000000000, 0.707106781186548, 0.500000000000000],\n",
       "       [-0.707106781186548, -4.32978028117747e-17, -0.707106781186547]],\n",
       "      dtype=object)"
      ]
     },
     "execution_count": 13,
     "metadata": {},
     "output_type": "execute_result"
    }
   ],
   "source": [
    "np.array(a @ b @ c)"
   ]
  },
  {
   "cell_type": "code",
   "execution_count": 14,
   "metadata": {},
   "outputs": [
    {
     "data": {
      "text/plain": [
       "array([[-5.00000000e-01, -7.07106781e-01,  5.00000000e-01],\n",
       "       [-5.00000000e-01,  7.07106781e-01,  5.00000000e-01],\n",
       "       [-7.07106781e-01, -4.32978028e-17, -7.07106781e-01]])"
      ]
     },
     "execution_count": 14,
     "metadata": {},
     "output_type": "execute_result"
    }
   ],
   "source": [
    "O"
   ]
  },
  {
   "cell_type": "code",
   "execution_count": 15,
   "metadata": {},
   "outputs": [],
   "source": [
    "Initial = np.linalg.inv(R) @ O"
   ]
  },
  {
   "cell_type": "code",
   "execution_count": 16,
   "metadata": {},
   "outputs": [
    {
     "data": {
      "text/plain": [
       "array([[-0.1161291 , -0.87965281,  0.46122116],\n",
       "       [-0.34164801,  0.47140452,  0.81305253],\n",
       "       [-0.93262569, -0.06315623, -0.35527542]])"
      ]
     },
     "execution_count": 16,
     "metadata": {},
     "output_type": "execute_result"
    }
   ],
   "source": [
    "Initial"
   ]
  },
  {
   "cell_type": "code",
   "execution_count": 17,
   "metadata": {},
   "outputs": [
    {
     "data": {
      "image/png": "[encoded data removed]",
      "text/latex": [
       "$\\displaystyle 1.0$"
      ],
      "text/plain": [
       "1.0"
      ]
     },
     "execution_count": 17,
     "metadata": {},
     "output_type": "execute_result"
    }
   ],
   "source": [
    "np.linalg.det(Initial)"
   ]
  },
  {
   "cell_type": "code",
   "execution_count": 18,
   "metadata": {},
   "outputs": [
    {
     "data": {
      "text/plain": [
       "True"
      ]
     },
     "execution_count": 18,
     "metadata": {},
     "output_type": "execute_result"
    }
   ],
   "source": [
    "np.allclose(np.dot(R.T, R), np.eye(3))"
   ]
  },
  {
   "cell_type": "code",
   "execution_count": 19,
   "metadata": {},
   "outputs": [
    {
     "data": {
      "text/plain": [
       "((-2.965663515564169, 1.2016222258862326, -1.898452923708797, None),\n",
       " (0.17592913802562457, 1.9399704277035608, 1.243139729880996, None))"
      ]
     },
     "execution_count": 19,
     "metadata": {},
     "output_type": "execute_result"
    }
   ],
   "source": [
    "pr.rotations.inverse_rpy(\n",
    "    Initial\n",
    ")"
   ]
  },
  {
   "cell_type": "code",
   "execution_count": 20,
   "metadata": {},
   "outputs": [],
   "source": [
    "Rf = np.array(\n",
    "    [\n",
    "        [1, 0, 0],\n",
    "        [0, -1, 0],\n",
    "        [0, 0, -1]\n",
    "    ]\n",
    ")\n",
    "\n",
    "Ri = np.array(\n",
    "    [\n",
    "        [0, 1, 0],\n",
    "        [0.5, 0, np.sqrt(3)/2],\n",
    "        [np.sqrt(3)/2, 0, -0.5]\n",
    "    ]\n",
    ")\n"
   ]
  },
  {
   "cell_type": "code",
   "execution_count": 21,
   "metadata": {},
   "outputs": [],
   "source": [
    "res = Ri.T @ Rf"
   ]
  },
  {
   "cell_type": "code",
   "execution_count": 22,
   "metadata": {},
   "outputs": [
    {
     "data": {
      "text/plain": [
       "array([[ 0.       , -0.5      , -0.8660254],\n",
       "       [ 1.       ,  0.       ,  0.       ],\n",
       "       [ 0.       , -0.8660254,  0.5      ]])"
      ]
     },
     "execution_count": 22,
     "metadata": {},
     "output_type": "execute_result"
    }
   ],
   "source": [
    "res"
   ]
  },
  {
   "cell_type": "markdown",
   "metadata": {},
   "source": [
    "$$\\theta = 1.8235 \\\\\n",
    "x = \\begin{bmatrix}-0.4472, -0.4472, 0.7746\\end{bmatrix}$$"
   ]
  },
  {
   "cell_type": "code",
   "execution_count": 23,
   "metadata": {},
   "outputs": [],
   "source": [
    "ax = np.array([-0.4472, -0.4472, 0.7746])"
   ]
  },
  {
   "cell_type": "code",
   "execution_count": 24,
   "metadata": {},
   "outputs": [
    {
     "data": {
      "image/png": "[encoded data removed]",
      "text/latex": [
       "$\\displaystyle 0.707106781186548$"
      ],
      "text/plain": [
       "0.7071067811865476"
      ]
     },
     "execution_count": 24,
     "metadata": {},
     "output_type": "execute_result"
    }
   ],
   "source": [
    "np.sqrt(2)/2"
   ]
  },
  {
   "cell_type": "code",
   "execution_count": 25,
   "metadata": {},
   "outputs": [],
   "source": [
    "M = np.array(\n",
    "    [\n",
    "        [-np.sqrt(2)/2, 0.5, -0.5, -1],\n",
    "        [-np.sqrt(2)/2, -0.5, 0.5, -1],\n",
    "        [0, np.sqrt(2)/2, np.sqrt(2)/2, -np.sqrt(2)/2],\n",
    "        [0, 0, 0, 1]\n",
    "    ]\n",
    ")"
   ]
  },
  {
   "cell_type": "code",
   "execution_count": 26,
   "metadata": {},
   "outputs": [
    {
     "data": {
      "text/plain": [
       "array([[-0.70710678,  0.5       , -0.5       , -1.        ],\n",
       "       [-0.70710678, -0.5       ,  0.5       , -1.        ],\n",
       "       [ 0.        ,  0.70710678,  0.70710678, -0.70710678],\n",
       "       [ 0.        ,  0.        ,  0.        ,  1.        ]])"
      ]
     },
     "execution_count": 26,
     "metadata": {},
     "output_type": "execute_result"
    }
   ],
   "source": [
    "M"
   ]
  },
  {
   "cell_type": "code",
   "execution_count": 38,
   "metadata": {},
   "outputs": [],
   "source": [
    "# recover denavit hartenberg parameters\n",
    "2\n",
    "alpha = np.arctan2(M[2,1], M[2,2])\n",
    "theta = np.arctan2(M[0, 1], M[0,0])\n",
    "d = M[2, 3]\n",
    "a = M[0, 3] * np.cos(theta) + M[1, 3] * np.sin(theta)"
   ]
  },
  {
   "cell_type": "code",
   "execution_count": 40,
   "metadata": {},
   "outputs": [
    {
     "data": {
      "image/png": "[encoded data removed]",
      "text/latex": [
       "$\\displaystyle 2.52611294491941$"
      ],
      "text/plain": [
       "2.5261129449194057"
      ]
     },
     "execution_count": 40,
     "metadata": {},
     "output_type": "execute_result"
    }
   ],
   "source": [
    "np.arctan2(M[0, 1], M[0,0])"
   ]
  },
  {
   "cell_type": "code",
   "execution_count": 44,
   "metadata": {},
   "outputs": [
    {
     "data": {
      "image/png": "[encoded data removed]",
      "text/latex": [
       "$\\displaystyle \\left( 0.5, \\  -0.707106781186548\\right)$"
      ],
      "text/plain": [
       "(0.5, -0.7071067811865476)"
      ]
     },
     "execution_count": 44,
     "metadata": {},
     "output_type": "execute_result"
    }
   ],
   "source": [
    "M[0, 1], M[0,0]"
   ]
  },
  {
   "cell_type": "code",
   "execution_count": 43,
   "metadata": {},
   "outputs": [
    {
     "data": {
      "image/png": "[encoded data removed]",
      "text/latex": [
       "$\\displaystyle -2.35619449019234$"
      ],
      "text/plain": [
       "-2.356194490192345"
      ]
     },
     "execution_count": 43,
     "metadata": {},
     "output_type": "execute_result"
    }
   ],
   "source": [
    "- (3 * np.pi)/4"
   ]
  },
  {
   "cell_type": "code",
   "execution_count": 42,
   "metadata": {},
   "outputs": [
    {
     "data": {
      "image/png": "[encoded data removed]",
      "text/latex": [
       "$\\displaystyle \\left( 0.785398163397448, \\  2.52611294491941, \\  -0.707106781186548, \\  0.2391463117381\\right)$"
      ],
      "text/plain": [
       "(0.7853981633974483, 2.5261129449194057, -0.7071067811865476, 0.23914631173810\n",
       "008)"
      ]
     },
     "execution_count": 42,
     "metadata": {},
     "output_type": "execute_result"
    }
   ],
   "source": [
    "alpha, theta, d, a "
   ]
  },
  {
   "cell_type": "code",
   "execution_count": 30,
   "metadata": {},
   "outputs": [
    {
     "data": {
      "image/png": "[encoded data removed]",
      "text/latex": [
       "$\\displaystyle -2.35619449019234$"
      ],
      "text/plain": [
       "-2.356194490192345"
      ]
     },
     "execution_count": 30,
     "metadata": {},
     "output_type": "execute_result"
    }
   ],
   "source": [
    "(-3 * np.pi) / 4"
   ]
  }
 ],
 "metadata": {
  "kernelspec": {
   "display_name": ".venv",
   "language": "python",
   "name": "python3"
  },
  "language_info": {
   "codemirror_mode": {
    "name": "ipython",
    "version": 3
   },
   "file_extension": ".py",
   "mimetype": "text/x-python",
   "name": "python",
   "nbconvert_exporter": "python",
   "pygments_lexer": "ipython3",
   "version": "3.11.5"
  }
 },
 "nbformat": 4,
 "nbformat_minor": 2
}
