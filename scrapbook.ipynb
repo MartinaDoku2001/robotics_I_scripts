{
 "cells": [
  {
   "cell_type": "markdown",
   "metadata": {},
   "source": [
    "# Contents\n",
    "\n",
    "This is a notebook that imports the robots libraries and a bunch of useful stuff\n",
    "\n",
    "I use this to perform explorative sessions when debugging/testing some aspects of the library\n",
    "\n",
    "Feel free to reuse this at the exam!\n",
    "\n",
    "(remember to use the pdm provided .venv on the top right corner of the notebook)"
   ]
  },
  {
   "cell_type": "code",
   "execution_count": 5,
   "metadata": {},
   "outputs": [],
   "source": [
    "import pyrobots.rotations as rot\n",
    "import numpy as np\n",
    "from rich import print\n"
   ]
  },
  {
   "cell_type": "code",
   "execution_count": 6,
   "metadata": {},
   "outputs": [],
   "source": [
    "theta, ax = rot.inverse_rot_mat(\n",
    "    np.array(\n",
    "        [\n",
    "            [0, 0.5, -(np.sqrt(3)/2)],\n",
    "            [1, 0, 0],\n",
    "            [0, -(np.sqrt(3)/2), -0.5]\n",
    "        ]\n",
    "    )\n",
    ")"
   ]
  },
  {
   "cell_type": "code",
   "execution_count": null,
   "metadata": {},
   "outputs": [],
   "source": []
  },
  {
   "cell_type": "code",
   "execution_count": 7,
   "metadata": {},
   "outputs": [
    {
     "data": {
      "text/html": [
       "<pre style=\"white-space:pre;overflow-x:auto;line-height:normal;font-family:Menlo,'DejaVu Sans Mono',consolas,'Courier New',monospace\"><span style=\"color: #008080; text-decoration-color: #008080; font-weight: bold\">2.4188584057763776</span> <span style=\"font-weight: bold\">[</span><span style=\"color: #008080; text-decoration-color: #008080; font-weight: bold\">-0.65465367</span> <span style=\"color: #008080; text-decoration-color: #008080; font-weight: bold\">-0.65465367</span>  <span style=\"color: #008080; text-decoration-color: #008080; font-weight: bold\">0.37796447</span><span style=\"font-weight: bold\">]</span>\n",
       "</pre>\n"
      ],
      "text/plain": [
       "\u001b[1;36m2.4188584057763776\u001b[0m \u001b[1m[\u001b[0m\u001b[1;36m-0.65465367\u001b[0m \u001b[1;36m-0.65465367\u001b[0m  \u001b[1;36m0.37796447\u001b[0m\u001b[1m]\u001b[0m\n"
      ]
     },
     "metadata": {},
     "output_type": "display_data"
    }
   ],
   "source": [
    "print(theta, ax)"
   ]
  },
  {
   "cell_type": "code",
   "execution_count": 8,
   "metadata": {},
   "outputs": [
    {
     "data": {
      "text/plain": [
       "(-2.0943951023931957, -3.141592653589793, 1.5707963267948966, None)"
      ]
     },
     "execution_count": 8,
     "metadata": {},
     "output_type": "execute_result"
    }
   ],
   "source": [
    "rot.inverse_rpy(\n",
    "        np.array(\n",
    "        [\n",
    "            [0, 0.5, -(np.sqrt(3)/2)],\n",
    "            [1, 0, 0],\n",
    "            [0, -(np.sqrt(3)/2), -0.5]\n",
    "        ]\n",
    "    )\n",
    ")"
   ]
  },
  {
   "cell_type": "code",
   "execution_count": 9,
   "metadata": {},
   "outputs": [
    {
     "data": {
      "text/plain": [
       "array([[ 1.000000e+00,  0.000000e+00,  0.000000e+00],\n",
       "       [ 0.000000e+00,  6.123234e-17,  1.000000e+00],\n",
       "       [ 0.000000e+00, -1.000000e+00,  6.123234e-17]])"
      ]
     },
     "execution_count": 9,
     "metadata": {},
     "output_type": "execute_result"
    }
   ],
   "source": [
    "rot.direct_rot_mat(-np.pi/2, np.array([1,0,0]))"
   ]
  },
  {
   "cell_type": "code",
   "execution_count": 10,
   "metadata": {},
   "outputs": [],
   "source": [
    "Re = np.array([\n",
    "            [0, 0.5, -(np.sqrt(3)/2)],\n",
    "            [1, 0, 0],\n",
    "            [0, -(np.sqrt(3)/2), -0.5]\n",
    "        ])\n",
    "\n",
    "Rt = np.array([\n",
    "            [1, 0, 0],\n",
    "            [0, 0, 1],\n",
    "            [0, -1, 0]\n",
    "        ])"
   ]
  },
  {
   "cell_type": "code",
   "execution_count": 11,
   "metadata": {},
   "outputs": [
    {
     "data": {
      "text/plain": [
       "(2.6179938779914944, -3.141592653589793, 1.5707963267948966, None)"
      ]
     },
     "execution_count": 11,
     "metadata": {},
     "output_type": "execute_result"
    }
   ],
   "source": [
    "rot.inverse_rpy(Re @ Rt)"
   ]
  },
  {
   "cell_type": "code",
   "execution_count": 12,
   "metadata": {},
   "outputs": [
    {
     "data": {
      "text/plain": [
       "0.8333333333333334"
      ]
     },
     "execution_count": 12,
     "metadata": {},
     "output_type": "execute_result"
    }
   ],
   "source": [
    "2.6179938779914944 / np.pi"
   ]
  },
  {
   "cell_type": "code",
   "execution_count": 28,
   "metadata": {},
   "outputs": [],
   "source": [
    "Z = rot.direct_rot_mat(-np.pi/2, np.array([0,0,1]))\n",
    "Y = rot.direct_rot_mat(-np.pi/4, np.array([0,1,0]))\n",
    "X = rot.direct_rot_mat(np.pi/4, np.array([1,0,0]))"
   ]
  },
  {
   "cell_type": "code",
   "execution_count": 29,
   "metadata": {},
   "outputs": [],
   "source": [
    "R = X @ Y @ Z"
   ]
  },
  {
   "cell_type": "code",
   "execution_count": 40,
   "metadata": {},
   "outputs": [
    {
     "data": {
      "text/plain": [
       "array([[ 4.32978028e-17,  7.07106781e-01, -7.07106781e-01],\n",
       "       [-7.07106781e-01, -5.00000000e-01, -5.00000000e-01],\n",
       "       [-7.07106781e-01,  5.00000000e-01,  5.00000000e-01]])"
      ]
     },
     "execution_count": 40,
     "metadata": {},
     "output_type": "execute_result"
    }
   ],
   "source": [
    "R"
   ]
  },
  {
   "cell_type": "code",
   "execution_count": 37,
   "metadata": {},
   "outputs": [],
   "source": [
    "val, vec = np.linalg.eig(R)"
   ]
  },
  {
   "cell_type": "code",
   "execution_count": 38,
   "metadata": {},
   "outputs": [
    {
     "data": {
      "text/plain": [
       "array([-0.5+0.8660254j, -0.5-0.8660254j,  1. +0.j       ])"
      ]
     },
     "execution_count": 38,
     "metadata": {},
     "output_type": "execute_result"
    }
   ],
   "source": [
    "val"
   ]
  },
  {
   "cell_type": "code",
   "execution_count": 39,
   "metadata": {},
   "outputs": [
    {
     "data": {
      "text/plain": [
       "array([[-7.51095729e-17-0.57735027j, -7.51095729e-17+0.57735027j,\n",
       "        -5.77350269e-01+0.j        ],\n",
       "       [ 7.07106781e-01+0.j        ,  7.07106781e-01-0.j        ,\n",
       "        -1.31045324e-16+0.j        ],\n",
       "       [-6.26003425e-17-0.40824829j, -6.26003425e-17+0.40824829j,\n",
       "         8.16496581e-01+0.j        ]])"
      ]
     },
     "execution_count": 39,
     "metadata": {},
     "output_type": "execute_result"
    }
   ],
   "source": [
    "vec"
   ]
  }
 ],
 "metadata": {
  "kernelspec": {
   "display_name": ".venv",
   "language": "python",
   "name": "python3"
  },
  "language_info": {
   "codemirror_mode": {
    "name": "ipython",
    "version": 3
   },
   "file_extension": ".py",
   "mimetype": "text/x-python",
   "name": "python",
   "nbconvert_exporter": "python",
   "pygments_lexer": "ipython3",
   "version": "3.11.5"
  }
 },
 "nbformat": 4,
 "nbformat_minor": 2
}
