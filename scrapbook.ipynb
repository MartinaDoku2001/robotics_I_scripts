{
 "cells": [
  {
   "cell_type": "markdown",
   "metadata": {},
   "source": [
    "# Contents\n",
    "\n",
    "This is a notebook that imports the robots libraries and a bunch of useful stuff\n",
    "\n",
    "I use this to perform explorative sessions when debugging/testing some aspects of the library\n",
    "\n",
    "Feel free to reuse this at the exam!\n",
    "\n",
    "(remember to use the pdm provided .venv on the top right corner of the notebook)"
   ]
  },
  {
   "cell_type": "code",
   "execution_count": 1,
   "metadata": {},
   "outputs": [],
   "source": [
    "import pyrobots as pr\n",
    "import numpy as np\n",
    "from rich import print\n"
   ]
  },
  {
   "cell_type": "code",
   "execution_count": 3,
   "metadata": {},
   "outputs": [],
   "source": [
    "Rf = np.array(\n",
    "    [\n",
    "        [1, 0, 0],\n",
    "        [0, -1, 0],\n",
    "        [0, 0, -1]\n",
    "    ]\n",
    ")\n",
    "\n",
    "Ri = np.array(\n",
    "    [\n",
    "        [0, 1, 0],\n",
    "        [0.5, 0, np.sqrt(3)/2],\n",
    "        [np.sqrt(3)/2, 0, -0.5]\n",
    "    ]\n",
    ")\n"
   ]
  },
  {
   "cell_type": "code",
   "execution_count": 4,
   "metadata": {},
   "outputs": [],
   "source": [
    "res = Ri.T @ Rf"
   ]
  },
  {
   "cell_type": "code",
   "execution_count": 5,
   "metadata": {},
   "outputs": [
    {
     "data": {
      "text/plain": [
       "array([[ 0.       , -0.5      , -0.8660254],\n",
       "       [ 1.       ,  0.       ,  0.       ],\n",
       "       [ 0.       , -0.8660254,  0.5      ]])"
      ]
     },
     "execution_count": 5,
     "metadata": {},
     "output_type": "execute_result"
    }
   ],
   "source": [
    "res"
   ]
  },
  {
   "cell_type": "markdown",
   "metadata": {},
   "source": [
    "$$\\theta = 1.8235 \\\\\n",
    "x = \\begin{bmatrix}-0.4472, -0.4472, 0.7746\\end{bmatrix}$$"
   ]
  },
  {
   "cell_type": "code",
   "execution_count": 6,
   "metadata": {},
   "outputs": [],
   "source": [
    "ax = np.array([-0.4472, -0.4472, 0.7746])"
   ]
  },
  {
   "cell_type": "code",
   "execution_count": 7,
   "metadata": {},
   "outputs": [
    {
     "data": {
      "text/plain": [
       "array([-0.4472    ,  0.44722328, -0.77458656])"
      ]
     },
     "execution_count": 7,
     "metadata": {},
     "output_type": "execute_result"
    }
   ],
   "source": [
    "Ri @ ax"
   ]
  },
  {
   "cell_type": "code",
   "execution_count": null,
   "metadata": {},
   "outputs": [],
   "source": []
  }
 ],
 "metadata": {
  "kernelspec": {
   "display_name": ".venv",
   "language": "python",
   "name": "python3"
  },
  "language_info": {
   "codemirror_mode": {
    "name": "ipython",
    "version": 3
   },
   "file_extension": ".py",
   "mimetype": "text/x-python",
   "name": "python",
   "nbconvert_exporter": "python",
   "pygments_lexer": "ipython3",
   "version": "3.11.5"
  }
 },
 "nbformat": 4,
 "nbformat_minor": 2
}
